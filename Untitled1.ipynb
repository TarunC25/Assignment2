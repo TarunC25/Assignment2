{
  "nbformat": 4,
  "nbformat_minor": 0,
  "metadata": {
    "colab": {
      "provenance": [],
      "authorship_tag": "ABX9TyPgvmsAZR/thQ1QAOKu48Rw",
      "include_colab_link": true
    },
    "kernelspec": {
      "name": "python3",
      "display_name": "Python 3"
    },
    "language_info": {
      "name": "python"
    }
  },
  "cells": [
    {
      "cell_type": "markdown",
      "metadata": {
        "id": "view-in-github",
        "colab_type": "text"
      },
      "source": [
        "<a href=\"https://colab.research.google.com/github/TarunC25/Assignment2/blob/main/Untitled1.ipynb\" target=\"_parent\"><img src=\"https://colab.research.google.com/assets/colab-badge.svg\" alt=\"Open In Colab\"/></a>"
      ]
    },
    {
      "cell_type": "code",
      "execution_count": 19,
      "metadata": {
        "id": "0A0md9z0T4_a"
      },
      "outputs": [],
      "source": [
        "def TOH(n,A,B,C):\n",
        "    if n==1:\n",
        "        print(\"Move disk 1 from\",A,\"to\",C)\n",
        "        return\n",
        "    TOH(n-1,A,C,B)\n",
        "    print(\"Move disk\",n,\"from\",A,\"to\",C)\n",
        "    TOH(n-1,B,A,C)\n",
        "  "
      ]
    },
    {
      "cell_type": "code",
      "source": [
        "TOH(3,'A','B','C')"
      ],
      "metadata": {
        "colab": {
          "base_uri": "https://localhost:8080/"
        },
        "id": "j571u1ABUXCL",
        "outputId": "6db22399-56e8-477f-a34c-f73648fdda42"
      },
      "execution_count": 20,
      "outputs": [
        {
          "output_type": "stream",
          "name": "stdout",
          "text": [
            "Move disk 1 from A to C\n",
            "Move disk 2 from A to B\n",
            "Move disk 1 from C to B\n",
            "Move disk 3 from A to C\n",
            "Move disk 1 from B to A\n",
            "Move disk 2 from B to C\n",
            "Move disk 1 from A to C\n"
          ]
        }
      ]
    },
    {
      "cell_type": "code",
      "source": [],
      "metadata": {
        "id": "UGs9afaiWrR7"
      },
      "execution_count": null,
      "outputs": []
    }
  ]
}